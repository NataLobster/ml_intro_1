{
 "cells": [
  {
   "cell_type": "code",
   "execution_count": 1,
   "metadata": {},
   "outputs": [],
   "source": [
    "import numpy as np\n",
    "import pandas as pd\n",
    "import seaborn as sns\n",
    "import matplotlib.pyplot as plt\n",
    "\n",
    "from sklearn.impute import SimpleImputer\n",
    "from sklearn.preprocessing import StandardScaler, MinMaxScaler, OrdinalEncoder, OneHotEncoder\n",
    "from sklearn.decomposition import PCA\n",
    "from sklearn.cluster import KMeans\n",
    "\n",
    "from sklearn.feature_selection import VarianceThreshold, SelectFromModel, RFECV, SequentialFeatureSelector\n",
    "\n",
    "from sklearn.ensemble import RandomForestClassifier, RandomForestRegressor\n",
    "from sklearn.linear_model import LogisticRegression\n",
    "\n",
    "from sklearn.model_selection import KFold, cross_val_score, train_test_split\n",
    "from sklearn.pipeline import Pipeline, make_pipeline\n",
    "from sklearn.metrics import accuracy_score\n",
    "\n",
    "from sklearn.datasets import make_classification, load_wine, load_breast_cancer, load_diabetes, load_digits"
   ]
  },
  {
   "cell_type": "code",
   "execution_count": 2,
   "metadata": {},
   "outputs": [],
   "source": [
    "plt.style.use('seaborn-darkgrid')"
   ]
  },
  {
   "cell_type": "code",
   "execution_count": 3,
   "metadata": {},
   "outputs": [],
   "source": [
    "def plot_scatter(x, y, auto_scaled=True, title=None, clusters=None):\n",
    "    plt.figure(figsize=(4, 4))\n",
    "    plt.scatter(x, y, c=clusters, cmap='bwr')\n",
    "    \n",
    "    if not auto_scaled:\n",
    "        plt.axis('square')\n",
    "    \n",
    "    plt.grid(True)\n",
    "    plt.title(title)\n",
    "    \n",
    "    plt.show()\n",
    "    \n",
    "def return_X_y(data, target_column):\n",
    "    return data.drop(target_column, axis=1), data[target_column]"
   ]
  },
  {
   "cell_type": "code",
   "execution_count": 4,
   "metadata": {},
   "outputs": [],
   "source": [
    "wine_sklearn = load_wine(as_frame=True)\n",
    "wine_data, wine_labels = wine_sklearn['data'], wine_sklearn['target']"
   ]
  },
  {
   "cell_type": "code",
   "execution_count": 5,
   "metadata": {},
   "outputs": [
    {
     "data": {
      "text/html": [
       "<div>\n",
       "<style scoped>\n",
       "    .dataframe tbody tr th:only-of-type {\n",
       "        vertical-align: middle;\n",
       "    }\n",
       "\n",
       "    .dataframe tbody tr th {\n",
       "        vertical-align: top;\n",
       "    }\n",
       "\n",
       "    .dataframe thead th {\n",
       "        text-align: right;\n",
       "    }\n",
       "</style>\n",
       "<table border=\"1\" class=\"dataframe\">\n",
       "  <thead>\n",
       "    <tr style=\"text-align: right;\">\n",
       "      <th></th>\n",
       "      <th>alcohol</th>\n",
       "      <th>malic_acid</th>\n",
       "      <th>ash</th>\n",
       "      <th>alcalinity_of_ash</th>\n",
       "      <th>magnesium</th>\n",
       "      <th>total_phenols</th>\n",
       "      <th>flavanoids</th>\n",
       "      <th>nonflavanoid_phenols</th>\n",
       "      <th>proanthocyanins</th>\n",
       "      <th>color_intensity</th>\n",
       "      <th>hue</th>\n",
       "      <th>od280/od315_of_diluted_wines</th>\n",
       "      <th>proline</th>\n",
       "    </tr>\n",
       "  </thead>\n",
       "  <tbody>\n",
       "    <tr>\n",
       "      <th>0</th>\n",
       "      <td>14.23</td>\n",
       "      <td>1.71</td>\n",
       "      <td>2.43</td>\n",
       "      <td>15.6</td>\n",
       "      <td>127.0</td>\n",
       "      <td>2.80</td>\n",
       "      <td>3.06</td>\n",
       "      <td>0.28</td>\n",
       "      <td>2.29</td>\n",
       "      <td>5.64</td>\n",
       "      <td>1.04</td>\n",
       "      <td>3.92</td>\n",
       "      <td>1065.0</td>\n",
       "    </tr>\n",
       "    <tr>\n",
       "      <th>1</th>\n",
       "      <td>13.20</td>\n",
       "      <td>1.78</td>\n",
       "      <td>2.14</td>\n",
       "      <td>11.2</td>\n",
       "      <td>100.0</td>\n",
       "      <td>2.65</td>\n",
       "      <td>2.76</td>\n",
       "      <td>0.26</td>\n",
       "      <td>1.28</td>\n",
       "      <td>4.38</td>\n",
       "      <td>1.05</td>\n",
       "      <td>3.40</td>\n",
       "      <td>1050.0</td>\n",
       "    </tr>\n",
       "    <tr>\n",
       "      <th>2</th>\n",
       "      <td>13.16</td>\n",
       "      <td>2.36</td>\n",
       "      <td>2.67</td>\n",
       "      <td>18.6</td>\n",
       "      <td>101.0</td>\n",
       "      <td>2.80</td>\n",
       "      <td>3.24</td>\n",
       "      <td>0.30</td>\n",
       "      <td>2.81</td>\n",
       "      <td>5.68</td>\n",
       "      <td>1.03</td>\n",
       "      <td>3.17</td>\n",
       "      <td>1185.0</td>\n",
       "    </tr>\n",
       "    <tr>\n",
       "      <th>3</th>\n",
       "      <td>14.37</td>\n",
       "      <td>1.95</td>\n",
       "      <td>2.50</td>\n",
       "      <td>16.8</td>\n",
       "      <td>113.0</td>\n",
       "      <td>3.85</td>\n",
       "      <td>3.49</td>\n",
       "      <td>0.24</td>\n",
       "      <td>2.18</td>\n",
       "      <td>7.80</td>\n",
       "      <td>0.86</td>\n",
       "      <td>3.45</td>\n",
       "      <td>1480.0</td>\n",
       "    </tr>\n",
       "    <tr>\n",
       "      <th>4</th>\n",
       "      <td>13.24</td>\n",
       "      <td>2.59</td>\n",
       "      <td>2.87</td>\n",
       "      <td>21.0</td>\n",
       "      <td>118.0</td>\n",
       "      <td>2.80</td>\n",
       "      <td>2.69</td>\n",
       "      <td>0.39</td>\n",
       "      <td>1.82</td>\n",
       "      <td>4.32</td>\n",
       "      <td>1.04</td>\n",
       "      <td>2.93</td>\n",
       "      <td>735.0</td>\n",
       "    </tr>\n",
       "  </tbody>\n",
       "</table>\n",
       "</div>"
      ],
      "text/plain": [
       "   alcohol  malic_acid   ash  alcalinity_of_ash  magnesium  total_phenols  \\\n",
       "0    14.23        1.71  2.43               15.6      127.0           2.80   \n",
       "1    13.20        1.78  2.14               11.2      100.0           2.65   \n",
       "2    13.16        2.36  2.67               18.6      101.0           2.80   \n",
       "3    14.37        1.95  2.50               16.8      113.0           3.85   \n",
       "4    13.24        2.59  2.87               21.0      118.0           2.80   \n",
       "\n",
       "   flavanoids  nonflavanoid_phenols  proanthocyanins  color_intensity   hue  \\\n",
       "0        3.06                  0.28             2.29             5.64  1.04   \n",
       "1        2.76                  0.26             1.28             4.38  1.05   \n",
       "2        3.24                  0.30             2.81             5.68  1.03   \n",
       "3        3.49                  0.24             2.18             7.80  0.86   \n",
       "4        2.69                  0.39             1.82             4.32  1.04   \n",
       "\n",
       "   od280/od315_of_diluted_wines  proline  \n",
       "0                          3.92   1065.0  \n",
       "1                          3.40   1050.0  \n",
       "2                          3.17   1185.0  \n",
       "3                          3.45   1480.0  \n",
       "4                          2.93    735.0  "
      ]
     },
     "execution_count": 5,
     "metadata": {},
     "output_type": "execute_result"
    }
   ],
   "source": [
    "wine_data.head()"
   ]
  },
  {
   "cell_type": "markdown",
   "metadata": {},
   "source": [
    "# Homework"
   ]
  },
  {
   "cell_type": "markdown",
   "metadata": {},
   "source": [
    "## Exercise  1 - Scaling (2 points)"
   ]
  },
  {
   "cell_type": "markdown",
   "metadata": {},
   "source": [
    "Perform standardization for wine dataset (`wine_data`) using only basic python, numpy and pandas (without using `StandardScaler` and sklearn at all). Implementation of function (or class) that can get dataset as input and return standardized dataset as output is preferrable, but not necessary.\n",
    "\n",
    "Compare you results (output) with `StandardScaler`.\n",
    "\n",
    "**NOTE:**\n",
    "\n",
    "- 1 point for functional version, 2 points for implementing scaling as sklearn pipeline compartible class. \n",
    "- Maximum for the exercise is 2 points.\n"
   ]
  },
  {
   "cell_type": "markdown",
   "metadata": {},
   "source": [
    "### Simple version (1 point)"
   ]
  },
  {
   "cell_type": "code",
   "execution_count": 6,
   "metadata": {},
   "outputs": [],
   "source": [
    "# 1 point\n",
    "def scale(X):\n",
    "    # your code here\n",
    "    X_scaled = (X - np.mean(X, axis=0))/np.std(X, axis=0)\n",
    "    return X_scaled"
   ]
  },
  {
   "cell_type": "code",
   "execution_count": 7,
   "metadata": {},
   "outputs": [
    {
     "name": "stdout",
     "output_type": "stream",
     "text": [
      "sucsess\n"
     ]
    }
   ],
   "source": [
    "assert np.allclose(np.array(scale(wine_data)), StandardScaler().fit_transform(wine_data))\n",
    "print('sucsess')"
   ]
  },
  {
   "cell_type": "markdown",
   "metadata": {},
   "source": [
    "### Pipeline Version (2 points)"
   ]
  },
  {
   "cell_type": "code",
   "execution_count": 11,
   "metadata": {},
   "outputs": [],
   "source": [
    "# 2 points\n",
    "from sklearn.base import BaseEstimator, TransformerMixin\n",
    "class CustomScaler(BaseEstimator, TransformerMixin):\n",
    "    def __init__(self, columns=None, copy=True, with_mean=True, with_std=True):\n",
    "        self.with_mean = with_mean\n",
    "        self.with_std = with_std\n",
    "        self.copy = copy\n",
    "        # your code here\n",
    "\n",
    "    def fit(self, X, y=None):\n",
    "        if hasattr(self, \"scale_\"):\n",
    "            del self.scale_\n",
    "            del self.mean_\n",
    "            \n",
    "        if self.with_mean:\n",
    "            self.mean_ = np.mean(X, axis=0)\n",
    "        if self.with_std:\n",
    "            self.scale_ = np.std(X, axis=0)\n",
    "            \n",
    "        return self\n",
    "\n",
    "    def transform(self, X, y=None, copy=None):\n",
    "        # your code here\n",
    "        copy = copy if copy is not None else self.copy\n",
    "        if self.with_mean:\n",
    "            X -= self.mean_\n",
    "        if self.with_std:\n",
    "            X /= self.scale_\n",
    "        return X"
   ]
  },
  {
   "cell_type": "code",
   "execution_count": null,
   "metadata": {},
   "outputs": [],
   "source": []
  },
  {
   "cell_type": "code",
   "execution_count": 13,
   "metadata": {},
   "outputs": [
    {
     "name": "stdout",
     "output_type": "stream",
     "text": [
      "sucsess\n"
     ]
    }
   ],
   "source": [
    "assert np.allclose(CustomScaler().fit_transform(wine_data), StandardScaler().fit_transform(wine_data))\n",
    "print('sucsess')"
   ]
  },
  {
   "cell_type": "markdown",
   "metadata": {},
   "source": [
    "## Exercise  2 - Visualization (3 points)"
   ]
  },
  {
   "cell_type": "markdown",
   "metadata": {},
   "source": [
    "As noted earlier, standardization/normalization of data can be crucial for some distance-based ML methods.\n",
    "\n",
    "Let’s generate some toy example of unnormalized data and visualize the importance of this process once more:"
   ]
  },
  {
   "cell_type": "code",
   "execution_count": 14,
   "metadata": {},
   "outputs": [
    {
     "data": {
      "text/plain": [
       "array([[ -3.64502804,  -1.29136621],\n",
       "       [ -7.42503587,  -0.31793995],\n",
       "       [ -8.97901629,  -0.26496594],\n",
       "       ...,\n",
       "       [ -8.99233191,   6.78643253],\n",
       "       [-12.47688539,   3.21841498],\n",
       "       [ -1.65466467,   3.44881242]])"
      ]
     },
     "execution_count": 14,
     "metadata": {},
     "output_type": "execute_result"
    }
   ],
   "source": [
    "feature_0 = np.random.randn(1000) * 10   \n",
    "feature_1 = np.concatenate([np.random.randn(500), np.random.randn(500) + 5])\n",
    "data = np.column_stack([feature_0, feature_1])\n",
    "data "
   ]
  },
  {
   "cell_type": "code",
   "execution_count": 15,
   "metadata": {},
   "outputs": [
    {
     "data": {
      "image/png": "[encoded data removed]",
      "text/plain": [
       "<Figure size 288x288 with 1 Axes>"
      ]
     },
     "metadata": {},
     "output_type": "display_data"
    }
   ],
   "source": [
    "plot_scatter(data[:, 0], data[:, 1], auto_scaled=True, title='Data (different axes units!)')"
   ]
  },
  {
   "cell_type": "markdown",
   "metadata": {},
   "source": [
    "**NOTE:** on the plot above axes are scaled differently and we can clearly see two potential *classes/clusters*. In fact `matplotlib` performed `autoscaling` (which is basically can be considered as `MinMaxScaling` of original data) just for better visualization purposes.\n",
    "\n",
    "Let's turn this feature off and visualize the original data on the plot with equally scaled axes:"
   ]
  },
  {
   "cell_type": "code",
   "execution_count": 16,
   "metadata": {},
   "outputs": [
    {
     "data": {
      "image/png": "[encoded data removed]",
      "text/plain": [
       "<Figure size 288x288 with 1 Axes>"
      ]
     },
     "metadata": {},
     "output_type": "display_data"
    }
   ],
   "source": [
    "plot_scatter(data[:, 0], data[:, 1], auto_scaled=False , title='Data (equal axes units!)')"
   ]
  },
  {
   "cell_type": "markdown",
   "metadata": {},
   "source": [
    "This picture is clearly less interpretable, but much closer to \"how distance-based algorithm see the original data\": separability of data is hardly noticable only because the variation (std) of x-feature is much bigger in absolute numbers."
   ]
  },
  {
   "cell_type": "markdown",
   "metadata": {},
   "source": [
    "Perform `StandardScaling` and `MinMaxScaling` of original data; visualize results for each case (**use `plot_scatter` with `auto_scaled=False`**):"
   ]
  },
  {
   "cell_type": "markdown",
   "metadata": {},
   "source": [
    "### MinMaxScaling (0.5 point)"
   ]
  },
  {
   "cell_type": "code",
   "execution_count": 17,
   "metadata": {},
   "outputs": [
    {
     "data": {
      "image/png": "[encoded data removed]",
      "text/plain": [
       "<Figure size 288x288 with 1 Axes>"
      ]
     },
     "metadata": {},
     "output_type": "display_data"
    }
   ],
   "source": [
    "## your code\n",
    "plot_scatter(MinMaxScaler().fit_transform(data)[:, 0], MinMaxScaler().fit_transform(data)[:, 1], auto_scaled=False , title='with MinMaxScaler()')"
   ]
  },
  {
   "cell_type": "markdown",
   "metadata": {},
   "source": [
    "### StandardScaler (0.5 point)"
   ]
  },
  {
   "cell_type": "code",
   "execution_count": 18,
   "metadata": {},
   "outputs": [
    {
     "data": {
      "image/png": "[encoded data removed]",
      "text/plain": [
       "<Figure size 288x288 with 1 Axes>"
      ]
     },
     "metadata": {},
     "output_type": "display_data"
    }
   ],
   "source": [
    "## your code\n",
    "plot_scatter(StandardScaler().fit_transform(data)[:, 0], StandardScaler().fit_transform(data)[:, 1], auto_scaled=False , title='with StandardScaler()')"
   ]
  },
  {
   "cell_type": "markdown",
   "metadata": {},
   "source": [
    "### (Bonus) K-means (2 points)"
   ]
  },
  {
   "cell_type": "markdown",
   "metadata": {},
   "source": [
    "Illustrate the impact of scaling on basic distance-based clustering algorithm [K-means](https://towardsdatascience.com/understanding-k-means-clustering-in-machine-learning-6a6e67336aa1) using `data` generated above.\n",
    "\n",
    "**NOTE:** basically, you don't need understanding K-means algorithm here, you just need to:\n",
    "\n",
    "1) run algorithm (with k=2, k - number of clusters/classes) on unscaled data    \n",
    "2) run algorithm (with k=2) on scaled data    \n",
    "3) plot results: highlight different clusters using different colors.\n",
    "\n",
    "You can use this [question](https://stats.stackexchange.com/questions/89809/is-it-important-to-scale-data-before-clustering/89813) as a hint, but I recommend you to plot results using `plot_scatter` with `equal_scaled=True`: it might help you to intuitively understand the reasons of such scaling impact.\n"
   ]
  },
  {
   "cell_type": "code",
   "execution_count": 19,
   "metadata": {},
   "outputs": [
    {
     "data": {
      "text/plain": [
       "KMeans(n_clusters=2)"
      ]
     },
     "execution_count": 19,
     "metadata": {},
     "output_type": "execute_result"
    }
   ],
   "source": [
    "## your code\n",
    "km = KMeans(n_clusters = 2)\n",
    "km.fit(data)"
   ]
  },
  {
   "cell_type": "code",
   "execution_count": 20,
   "metadata": {},
   "outputs": [
    {
     "data": {
      "image/png": "[encoded data removed]",
      "text/plain": [
       "<Figure size 288x288 with 1 Axes>"
      ]
     },
     "metadata": {},
     "output_type": "display_data"
    }
   ],
   "source": [
    "plot_scatter(data[:, 0], data[:, 1], auto_scaled=False , clusters = km.labels_, title='without StandardScaler()')"
   ]
  },
  {
   "cell_type": "code",
   "execution_count": 21,
   "metadata": {},
   "outputs": [
    {
     "data": {
      "image/png": "[encoded data removed]",
      "text/plain": [
       "<Figure size 288x288 with 1 Axes>"
      ]
     },
     "metadata": {},
     "output_type": "display_data"
    }
   ],
   "source": [
    "km = KMeans(n_clusters = 2)\n",
    "data_sc = StandardScaler().fit_transform(data) \n",
    "km.fit(data_sc)\n",
    "plot_scatter(data_sc[:, 0],data_sc[:, 1], auto_scaled=False , clusters = km.labels_, title='with StandardScaler()')"
   ]
  },
  {
   "cell_type": "code",
   "execution_count": null,
   "metadata": {},
   "outputs": [],
   "source": []
  },
  {
   "cell_type": "markdown",
   "metadata": {},
   "source": [
    "## Exercise  3 - Preprocessing Pipeline (2 points)"
   ]
  },
  {
   "cell_type": "code",
   "execution_count": 52,
   "metadata": {},
   "outputs": [],
   "source": [
    "wine_sklearn = load_wine(as_frame=True)\n",
    "wine_data, wine_labels = wine_sklearn['data'], wine_sklearn['target']"
   ]
  },
  {
   "cell_type": "code",
   "execution_count": 53,
   "metadata": {},
   "outputs": [
    {
     "data": {
      "text/html": [
       "<div>\n",
       "<style scoped>\n",
       "    .dataframe tbody tr th:only-of-type {\n",
       "        vertical-align: middle;\n",
       "    }\n",
       "\n",
       "    .dataframe tbody tr th {\n",
       "        vertical-align: top;\n",
       "    }\n",
       "\n",
       "    .dataframe thead th {\n",
       "        text-align: right;\n",
       "    }\n",
       "</style>\n",
       "<table border=\"1\" class=\"dataframe\">\n",
       "  <thead>\n",
       "    <tr style=\"text-align: right;\">\n",
       "      <th></th>\n",
       "      <th>alcohol</th>\n",
       "      <th>malic_acid</th>\n",
       "      <th>ash</th>\n",
       "      <th>alcalinity_of_ash</th>\n",
       "      <th>magnesium</th>\n",
       "      <th>total_phenols</th>\n",
       "      <th>flavanoids</th>\n",
       "      <th>nonflavanoid_phenols</th>\n",
       "      <th>proanthocyanins</th>\n",
       "      <th>color_intensity</th>\n",
       "      <th>hue</th>\n",
       "      <th>od280/od315_of_diluted_wines</th>\n",
       "      <th>proline</th>\n",
       "    </tr>\n",
       "  </thead>\n",
       "  <tbody>\n",
       "    <tr>\n",
       "      <th>0</th>\n",
       "      <td>14.23</td>\n",
       "      <td>1.71</td>\n",
       "      <td>2.43</td>\n",
       "      <td>15.6</td>\n",
       "      <td>127.0</td>\n",
       "      <td>2.80</td>\n",
       "      <td>3.06</td>\n",
       "      <td>0.28</td>\n",
       "      <td>2.29</td>\n",
       "      <td>5.64</td>\n",
       "      <td>1.04</td>\n",
       "      <td>3.92</td>\n",
       "      <td>1065.0</td>\n",
       "    </tr>\n",
       "    <tr>\n",
       "      <th>1</th>\n",
       "      <td>13.20</td>\n",
       "      <td>1.78</td>\n",
       "      <td>2.14</td>\n",
       "      <td>11.2</td>\n",
       "      <td>100.0</td>\n",
       "      <td>2.65</td>\n",
       "      <td>2.76</td>\n",
       "      <td>0.26</td>\n",
       "      <td>1.28</td>\n",
       "      <td>4.38</td>\n",
       "      <td>1.05</td>\n",
       "      <td>3.40</td>\n",
       "      <td>1050.0</td>\n",
       "    </tr>\n",
       "    <tr>\n",
       "      <th>2</th>\n",
       "      <td>13.16</td>\n",
       "      <td>2.36</td>\n",
       "      <td>2.67</td>\n",
       "      <td>18.6</td>\n",
       "      <td>101.0</td>\n",
       "      <td>2.80</td>\n",
       "      <td>3.24</td>\n",
       "      <td>0.30</td>\n",
       "      <td>2.81</td>\n",
       "      <td>5.68</td>\n",
       "      <td>1.03</td>\n",
       "      <td>3.17</td>\n",
       "      <td>1185.0</td>\n",
       "    </tr>\n",
       "    <tr>\n",
       "      <th>3</th>\n",
       "      <td>14.37</td>\n",
       "      <td>1.95</td>\n",
       "      <td>2.50</td>\n",
       "      <td>16.8</td>\n",
       "      <td>113.0</td>\n",
       "      <td>3.85</td>\n",
       "      <td>3.49</td>\n",
       "      <td>0.24</td>\n",
       "      <td>2.18</td>\n",
       "      <td>7.80</td>\n",
       "      <td>0.86</td>\n",
       "      <td>3.45</td>\n",
       "      <td>1480.0</td>\n",
       "    </tr>\n",
       "    <tr>\n",
       "      <th>4</th>\n",
       "      <td>13.24</td>\n",
       "      <td>2.59</td>\n",
       "      <td>2.87</td>\n",
       "      <td>21.0</td>\n",
       "      <td>118.0</td>\n",
       "      <td>2.80</td>\n",
       "      <td>2.69</td>\n",
       "      <td>0.39</td>\n",
       "      <td>1.82</td>\n",
       "      <td>4.32</td>\n",
       "      <td>1.04</td>\n",
       "      <td>2.93</td>\n",
       "      <td>735.0</td>\n",
       "    </tr>\n",
       "  </tbody>\n",
       "</table>\n",
       "</div>"
      ],
      "text/plain": [
       "   alcohol  malic_acid   ash  alcalinity_of_ash  magnesium  total_phenols  \\\n",
       "0    14.23        1.71  2.43               15.6      127.0           2.80   \n",
       "1    13.20        1.78  2.14               11.2      100.0           2.65   \n",
       "2    13.16        2.36  2.67               18.6      101.0           2.80   \n",
       "3    14.37        1.95  2.50               16.8      113.0           3.85   \n",
       "4    13.24        2.59  2.87               21.0      118.0           2.80   \n",
       "\n",
       "   flavanoids  nonflavanoid_phenols  proanthocyanins  color_intensity   hue  \\\n",
       "0        3.06                  0.28             2.29             5.64  1.04   \n",
       "1        2.76                  0.26             1.28             4.38  1.05   \n",
       "2        3.24                  0.30             2.81             5.68  1.03   \n",
       "3        3.49                  0.24             2.18             7.80  0.86   \n",
       "4        2.69                  0.39             1.82             4.32  1.04   \n",
       "\n",
       "   od280/od315_of_diluted_wines  proline  \n",
       "0                          3.92   1065.0  \n",
       "1                          3.40   1050.0  \n",
       "2                          3.17   1185.0  \n",
       "3                          3.45   1480.0  \n",
       "4                          2.93    735.0  "
      ]
     },
     "execution_count": 53,
     "metadata": {},
     "output_type": "execute_result"
    }
   ],
   "source": [
    "wine_data.head()"
   ]
  },
  {
   "cell_type": "code",
   "execution_count": 54,
   "metadata": {},
   "outputs": [],
   "source": [
    "wine_train, wine_val, wine_labels_train, wine_labels_val = train_test_split(wine_data, wine_labels, \n",
    "                                                                            test_size=0.3, random_state=42)"
   ]
  },
  {
   "cell_type": "markdown",
   "metadata": {},
   "source": [
    "Train model (for example, `LogisticRegression(solver='liblinear', penalty='l1')` on raw `wine_train` data; then train same model after data scaling; then add feature selection (and train model again on scaled data). For each experiment all required preprocessing steps (if any) should be wrapped into sklearn pipeline.\n",
    "\n",
    "Measure `accuracy` of all 3 approaches on `wine_val` dataset. Describe and explain results."
   ]
  },
  {
   "cell_type": "code",
   "execution_count": 56,
   "metadata": {},
   "outputs": [
    {
     "name": "stdout",
     "output_type": "stream",
     "text": [
      "0.967741935483871 0.9814814814814815\n"
     ]
    }
   ],
   "source": [
    "## raw data\n",
    "log_reg = LogisticRegression(solver='liblinear', penalty='l1')\n",
    "pipe = Pipeline([(\"modelling\", log_reg)])\n",
    "pipe.fit(wine_train, wine_labels_train)\n",
    "print(accuracy_score(wine_labels_train,pipe.predict(wine_train)),accuracy_score(wine_labels_val,pipe.predict(wine_val)))"
   ]
  },
  {
   "cell_type": "code",
   "execution_count": 57,
   "metadata": {},
   "outputs": [
    {
     "name": "stdout",
     "output_type": "stream",
     "text": [
      "1.0 0.9814814814814815\n"
     ]
    }
   ],
   "source": [
    "## scaled data\n",
    "log_reg1 = LogisticRegression(solver='liblinear', penalty='l1')\n",
    "scaler1 = StandardScaler()\n",
    "pipe1 = Pipeline([\n",
    "                (\"scaling\", scaler1),\n",
    "                (\"modelling\", log_reg1)\n",
    "                ])\n",
    "pipe1.fit(wine_train, wine_labels_train)\n",
    "print(accuracy_score(wine_labels_train,pipe1.predict(wine_train)),accuracy_score(wine_labels_val,pipe1.predict(wine_val)))"
   ]
  },
  {
   "cell_type": "code",
   "execution_count": 58,
   "metadata": {},
   "outputs": [
    {
     "name": "stdout",
     "output_type": "stream",
     "text": [
      "0.967741935483871 1.0\n"
     ]
    }
   ],
   "source": [
    "## scaled & selected data\n",
    "log_reg2 = LogisticRegression(solver='liblinear', penalty='l1')\n",
    "scaler2 = StandardScaler()\n",
    "selector2 = VarianceThreshold(0.7)\n",
    "pipe2 = Pipeline([\n",
    "                (\"selecting\", selector2),\n",
    "                (\"scaling\", scaler1),\n",
    "                (\"modelling\", log_reg1)\n",
    "                ])\n",
    "pipe2.fit(wine_train, wine_labels_train)\n",
    "print(accuracy_score(wine_labels_train,pipe2.predict(wine_train)),accuracy_score(wine_labels_val,pipe2.predict(wine_val)))"
   ]
  },
  {
   "cell_type": "markdown",
   "metadata": {},
   "source": [
    "## Exercise 4 - manual PCA (5 points)\n",
    "The task is to solve PCA as an optimization problem, without explicitly doing eigen value decomposition.\n",
    "In the most general setting PCA is minimization of reconstruction error of a projection of given rank $q$\n",
    "\n",
    "$$\\min_{\\mu, \\lambda_1,\\ldots, \\lambda_n, \\mathbf{V}_q} \\sum_{i=1}^n ||x_i - \\mu - \\mathbf{V}_q \\lambda_i||^2$$\n",
    "\n",
    "With a number of steps that can be found here https://stats.stackexchange.com/a/10260 this task transforms to\n",
    " $$\\max_{u_i} \\sum_{i=1}^q u_i^T \\mathbf{S} u_i$$\n",
    " where $\\mathbf{S}$ is the sample covariance matrix (after standartization) and $u_1, \\ldots, u_q$ are the $q$ are orthonormal columns in $\\mathbf{V}_q$.\n",
    " Let us solve this optimization problem with `scipy.optimize` library.\n",
    " \n",
    " Additional 2 point are given for visualization of the results."
   ]
  },
  {
   "cell_type": "markdown",
   "metadata": {},
   "source": [
    "### PCA (3 points)"
   ]
  },
  {
   "cell_type": "code",
   "execution_count": 78,
   "metadata": {},
   "outputs": [],
   "source": [
    "wine_data, wine_labels = wine_sklearn['data'], wine_sklearn['target']"
   ]
  },
  {
   "cell_type": "markdown",
   "metadata": {},
   "source": [
    "Find a covariance matrix of standartized data and assing it to S."
   ]
  },
  {
   "cell_type": "code",
   "execution_count": 79,
   "metadata": {},
   "outputs": [
    {
     "data": {
      "text/plain": [
       "5.787241159764732"
      ]
     },
     "execution_count": 79,
     "metadata": {},
     "output_type": "execute_result"
    }
   ],
   "source": [
    "## your code\n",
    "D =  StandardScaler().fit_transform(wine_data)\n",
    "S = np.cov(np.array(StandardScaler().fit_transform(wine_data)).transpose())\n",
    "np.linalg.norm(S)"
   ]
  },
  {
   "cell_type": "code",
   "execution_count": 80,
   "metadata": {},
   "outputs": [
    {
     "data": {
      "text/plain": [
       "array([[ 1.00564972,  0.09493026,  0.21273976, -0.31198788,  0.27232816,\n",
       "         0.29073446,  0.23815287, -0.15681042,  0.13747022,  0.549451  ,\n",
       "        -0.07215255,  0.07275191,  0.64735687],\n",
       "       [ 0.09493026,  1.00564972,  0.16497228,  0.29013035, -0.05488343,\n",
       "        -0.3370606 , -0.41332866,  0.29463237, -0.22199334,  0.25039204,\n",
       "        -0.56446685, -0.37079354, -0.19309537],\n",
       "       [ 0.21273976,  0.16497228,  1.00564972,  0.44587209,  0.28820583,\n",
       "         0.12970824,  0.11572743,  0.1872826 ,  0.00970647,  0.2603499 ,\n",
       "        -0.07508874,  0.00393333,  0.22488969],\n",
       "       [-0.31198788,  0.29013035,  0.44587209,  1.00564972, -0.0838039 ,\n",
       "        -0.32292752, -0.353355  ,  0.36396647, -0.19844168,  0.01883781,\n",
       "        -0.27550299, -0.27833221, -0.44308618],\n",
       "       [ 0.27232816, -0.05488343,  0.28820583, -0.0838039 ,  1.00564972,\n",
       "         0.21561254,  0.19688989, -0.25774204,  0.23777643,  0.20107967,\n",
       "         0.05571118,  0.06637684,  0.39557317],\n",
       "       [ 0.29073446, -0.3370606 ,  0.12970824, -0.32292752,  0.21561254,\n",
       "         1.00564972,  0.86944804, -0.45247731,  0.61587304, -0.05544792,\n",
       "         0.43613151,  0.70390388,  0.50092909],\n",
       "       [ 0.23815287, -0.41332866,  0.11572743, -0.353355  ,  0.19688989,\n",
       "         0.86944804,  1.00564972, -0.54093859,  0.65637929, -0.17335329,\n",
       "         0.54654907,  0.79164133,  0.49698518],\n",
       "       [-0.15681042,  0.29463237,  0.1872826 ,  0.36396647, -0.25774204,\n",
       "        -0.45247731, -0.54093859,  1.00564972, -0.36791202,  0.13984265,\n",
       "        -0.26412347, -0.50611293, -0.31314443],\n",
       "       [ 0.13747022, -0.22199334,  0.00970647, -0.19844168,  0.23777643,\n",
       "         0.61587304,  0.65637929, -0.36791202,  1.00564972, -0.02539259,\n",
       "         0.29721399,  0.52199968,  0.33228346],\n",
       "       [ 0.549451  ,  0.25039204,  0.2603499 ,  0.01883781,  0.20107967,\n",
       "        -0.05544792, -0.17335329,  0.13984265, -0.02539259,  1.00564972,\n",
       "        -0.52476129, -0.43123763,  0.31788599],\n",
       "       [-0.07215255, -0.56446685, -0.07508874, -0.27550299,  0.05571118,\n",
       "         0.43613151,  0.54654907, -0.26412347,  0.29721399, -0.52476129,\n",
       "         1.00564972,  0.56866303,  0.23751782],\n",
       "       [ 0.07275191, -0.37079354,  0.00393333, -0.27833221,  0.06637684,\n",
       "         0.70390388,  0.79164133, -0.50611293,  0.52199968, -0.43123763,\n",
       "         0.56866303,  1.00564972,  0.31452809],\n",
       "       [ 0.64735687, -0.19309537,  0.22488969, -0.44308618,  0.39557317,\n",
       "         0.50092909,  0.49698518, -0.31314443,  0.33228346,  0.31788599,\n",
       "         0.23751782,  0.31452809,  1.00564972]])"
      ]
     },
     "execution_count": 80,
     "metadata": {},
     "output_type": "execute_result"
    }
   ],
   "source": [
    "S"
   ]
  },
  {
   "cell_type": "code",
   "execution_count": 81,
   "metadata": {},
   "outputs": [
    {
     "data": {
      "text/html": [
       "<div>\n",
       "<style scoped>\n",
       "    .dataframe tbody tr th:only-of-type {\n",
       "        vertical-align: middle;\n",
       "    }\n",
       "\n",
       "    .dataframe tbody tr th {\n",
       "        vertical-align: top;\n",
       "    }\n",
       "\n",
       "    .dataframe thead th {\n",
       "        text-align: right;\n",
       "    }\n",
       "</style>\n",
       "<table border=\"1\" class=\"dataframe\">\n",
       "  <thead>\n",
       "    <tr style=\"text-align: right;\">\n",
       "      <th></th>\n",
       "      <th>alcohol</th>\n",
       "      <th>malic_acid</th>\n",
       "      <th>ash</th>\n",
       "      <th>alcalinity_of_ash</th>\n",
       "      <th>magnesium</th>\n",
       "      <th>total_phenols</th>\n",
       "      <th>flavanoids</th>\n",
       "      <th>nonflavanoid_phenols</th>\n",
       "      <th>proanthocyanins</th>\n",
       "      <th>color_intensity</th>\n",
       "      <th>hue</th>\n",
       "      <th>od280/od315_of_diluted_wines</th>\n",
       "      <th>proline</th>\n",
       "    </tr>\n",
       "  </thead>\n",
       "  <tbody>\n",
       "    <tr>\n",
       "      <th>alcohol</th>\n",
       "      <td>116.654032</td>\n",
       "      <td>15.153202</td>\n",
       "      <td>8.339383</td>\n",
       "      <td>-148.873444</td>\n",
       "      <td>555.758427</td>\n",
       "      <td>25.999038</td>\n",
       "      <td>33.989880</td>\n",
       "      <td>-2.788504</td>\n",
       "      <td>11.242601</td>\n",
       "      <td>182.006010</td>\n",
       "      <td>-2.356479</td>\n",
       "      <td>7.380515</td>\n",
       "      <td>2.912839e+04</td>\n",
       "    </tr>\n",
       "    <tr>\n",
       "      <th>malic_acid</th>\n",
       "      <td>15.153202</td>\n",
       "      <td>220.898726</td>\n",
       "      <td>8.899036</td>\n",
       "      <td>190.510713</td>\n",
       "      <td>-154.127978</td>\n",
       "      <td>-41.477777</td>\n",
       "      <td>-81.177575</td>\n",
       "      <td>7.209805</td>\n",
       "      <td>-24.983016</td>\n",
       "      <td>114.136358</td>\n",
       "      <td>-25.368638</td>\n",
       "      <td>-51.763204</td>\n",
       "      <td>-1.195615e+04</td>\n",
       "    </tr>\n",
       "    <tr>\n",
       "      <th>ash</th>\n",
       "      <td>8.339383</td>\n",
       "      <td>8.899036</td>\n",
       "      <td>13.321840</td>\n",
       "      <td>71.898865</td>\n",
       "      <td>198.759775</td>\n",
       "      <td>3.919770</td>\n",
       "      <td>5.581647</td>\n",
       "      <td>1.125449</td>\n",
       "      <td>0.268257</td>\n",
       "      <td>29.143816</td>\n",
       "      <td>-0.828741</td>\n",
       "      <td>0.134845</td>\n",
       "      <td>3.419594e+03</td>\n",
       "    </tr>\n",
       "    <tr>\n",
       "      <th>alcalinity_of_ash</th>\n",
       "      <td>-148.873444</td>\n",
       "      <td>190.510713</td>\n",
       "      <td>71.898865</td>\n",
       "      <td>1974.025449</td>\n",
       "      <td>-703.532584</td>\n",
       "      <td>-118.793399</td>\n",
       "      <td>-207.458657</td>\n",
       "      <td>26.624669</td>\n",
       "      <td>-66.760191</td>\n",
       "      <td>25.669281</td>\n",
       "      <td>-37.013896</td>\n",
       "      <td>-116.153483</td>\n",
       "      <td>-8.201390e+04</td>\n",
       "    </tr>\n",
       "    <tr>\n",
       "      <th>magnesium</th>\n",
       "      <td>555.758427</td>\n",
       "      <td>-154.127978</td>\n",
       "      <td>198.759775</td>\n",
       "      <td>-703.532584</td>\n",
       "      <td>36106.112360</td>\n",
       "      <td>339.215169</td>\n",
       "      <td>494.376404</td>\n",
       "      <td>-80.634719</td>\n",
       "      <td>342.111348</td>\n",
       "      <td>1171.832149</td>\n",
       "      <td>32.010674</td>\n",
       "      <td>118.467528</td>\n",
       "      <td>3.131411e+05</td>\n",
       "    </tr>\n",
       "    <tr>\n",
       "      <th>total_phenols</th>\n",
       "      <td>25.999038</td>\n",
       "      <td>-41.477777</td>\n",
       "      <td>3.919770</td>\n",
       "      <td>-118.793399</td>\n",
       "      <td>339.215169</td>\n",
       "      <td>69.329048</td>\n",
       "      <td>95.663265</td>\n",
       "      <td>-6.202987</td>\n",
       "      <td>38.829082</td>\n",
       "      <td>-14.159561</td>\n",
       "      <td>10.980881</td>\n",
       "      <td>55.050766</td>\n",
       "      <td>1.737628e+04</td>\n",
       "    </tr>\n",
       "    <tr>\n",
       "      <th>flavanoids</th>\n",
       "      <td>33.989880</td>\n",
       "      <td>-81.177575</td>\n",
       "      <td>5.581647</td>\n",
       "      <td>-207.458657</td>\n",
       "      <td>494.376404</td>\n",
       "      <td>95.663265</td>\n",
       "      <td>176.596205</td>\n",
       "      <td>-11.835459</td>\n",
       "      <td>66.047117</td>\n",
       "      <td>-70.652847</td>\n",
       "      <td>21.962508</td>\n",
       "      <td>98.812419</td>\n",
       "      <td>2.751421e+04</td>\n",
       "    </tr>\n",
       "    <tr>\n",
       "      <th>nonflavanoid_phenols</th>\n",
       "      <td>-2.788504</td>\n",
       "      <td>7.209805</td>\n",
       "      <td>1.125449</td>\n",
       "      <td>26.624669</td>\n",
       "      <td>-80.634719</td>\n",
       "      <td>-6.202987</td>\n",
       "      <td>-11.835459</td>\n",
       "      <td>2.741488</td>\n",
       "      <td>-4.612597</td>\n",
       "      <td>7.101330</td>\n",
       "      <td>-1.322398</td>\n",
       "      <td>-7.871056</td>\n",
       "      <td>-2.160035e+03</td>\n",
       "    </tr>\n",
       "    <tr>\n",
       "      <th>proanthocyanins</th>\n",
       "      <td>11.242601</td>\n",
       "      <td>-24.983016</td>\n",
       "      <td>0.268257</td>\n",
       "      <td>-66.760191</td>\n",
       "      <td>342.111348</td>\n",
       "      <td>38.829082</td>\n",
       "      <td>66.047117</td>\n",
       "      <td>-4.612597</td>\n",
       "      <td>57.984256</td>\n",
       "      <td>-5.930193</td>\n",
       "      <td>6.843628</td>\n",
       "      <td>37.335130</td>\n",
       "      <td>1.054112e+04</td>\n",
       "    </tr>\n",
       "    <tr>\n",
       "      <th>color_intensity</th>\n",
       "      <td>182.006010</td>\n",
       "      <td>114.136358</td>\n",
       "      <td>29.143816</td>\n",
       "      <td>25.669281</td>\n",
       "      <td>1171.832149</td>\n",
       "      <td>-14.159561</td>\n",
       "      <td>-70.652847</td>\n",
       "      <td>7.101330</td>\n",
       "      <td>-5.930193</td>\n",
       "      <td>951.277541</td>\n",
       "      <td>-48.941527</td>\n",
       "      <td>-124.928826</td>\n",
       "      <td>4.084584e+04</td>\n",
       "    </tr>\n",
       "    <tr>\n",
       "      <th>hue</th>\n",
       "      <td>-2.356479</td>\n",
       "      <td>-25.368638</td>\n",
       "      <td>-0.828741</td>\n",
       "      <td>-37.013896</td>\n",
       "      <td>32.010674</td>\n",
       "      <td>10.980881</td>\n",
       "      <td>21.962508</td>\n",
       "      <td>-1.322398</td>\n",
       "      <td>6.843628</td>\n",
       "      <td>-48.941527</td>\n",
       "      <td>9.247358</td>\n",
       "      <td>16.242625</td>\n",
       "      <td>3.009040e+03</td>\n",
       "    </tr>\n",
       "    <tr>\n",
       "      <th>od280/od315_of_diluted_wines</th>\n",
       "      <td>7.380515</td>\n",
       "      <td>-51.763204</td>\n",
       "      <td>0.134845</td>\n",
       "      <td>-116.153483</td>\n",
       "      <td>118.467528</td>\n",
       "      <td>55.050766</td>\n",
       "      <td>98.812419</td>\n",
       "      <td>-7.871056</td>\n",
       "      <td>37.335130</td>\n",
       "      <td>-124.928826</td>\n",
       "      <td>16.242625</td>\n",
       "      <td>89.223294</td>\n",
       "      <td>1.237717e+04</td>\n",
       "    </tr>\n",
       "    <tr>\n",
       "      <th>proline</th>\n",
       "      <td>29128.391742</td>\n",
       "      <td>-11956.149382</td>\n",
       "      <td>3419.593820</td>\n",
       "      <td>-82013.896067</td>\n",
       "      <td>313141.089888</td>\n",
       "      <td>17376.277135</td>\n",
       "      <td>27514.206124</td>\n",
       "      <td>-2160.034775</td>\n",
       "      <td>10541.117079</td>\n",
       "      <td>40845.843985</td>\n",
       "      <td>3009.039539</td>\n",
       "      <td>12377.172022</td>\n",
       "      <td>1.755251e+07</td>\n",
       "    </tr>\n",
       "  </tbody>\n",
       "</table>\n",
       "</div>"
      ],
      "text/plain": [
       "                                   alcohol    malic_acid          ash  \\\n",
       "alcohol                         116.654032     15.153202     8.339383   \n",
       "malic_acid                       15.153202    220.898726     8.899036   \n",
       "ash                               8.339383      8.899036    13.321840   \n",
       "alcalinity_of_ash              -148.873444    190.510713    71.898865   \n",
       "magnesium                       555.758427   -154.127978   198.759775   \n",
       "total_phenols                    25.999038    -41.477777     3.919770   \n",
       "flavanoids                       33.989880    -81.177575     5.581647   \n",
       "nonflavanoid_phenols             -2.788504      7.209805     1.125449   \n",
       "proanthocyanins                  11.242601    -24.983016     0.268257   \n",
       "color_intensity                 182.006010    114.136358    29.143816   \n",
       "hue                              -2.356479    -25.368638    -0.828741   \n",
       "od280/od315_of_diluted_wines      7.380515    -51.763204     0.134845   \n",
       "proline                       29128.391742 -11956.149382  3419.593820   \n",
       "\n",
       "                              alcalinity_of_ash      magnesium  total_phenols  \\\n",
       "alcohol                             -148.873444     555.758427      25.999038   \n",
       "malic_acid                           190.510713    -154.127978     -41.477777   \n",
       "ash                                   71.898865     198.759775       3.919770   \n",
       "alcalinity_of_ash                   1974.025449    -703.532584    -118.793399   \n",
       "magnesium                           -703.532584   36106.112360     339.215169   \n",
       "total_phenols                       -118.793399     339.215169      69.329048   \n",
       "flavanoids                          -207.458657     494.376404      95.663265   \n",
       "nonflavanoid_phenols                  26.624669     -80.634719      -6.202987   \n",
       "proanthocyanins                      -66.760191     342.111348      38.829082   \n",
       "color_intensity                       25.669281    1171.832149     -14.159561   \n",
       "hue                                  -37.013896      32.010674      10.980881   \n",
       "od280/od315_of_diluted_wines        -116.153483     118.467528      55.050766   \n",
       "proline                           -82013.896067  313141.089888   17376.277135   \n",
       "\n",
       "                                flavanoids  nonflavanoid_phenols  \\\n",
       "alcohol                          33.989880             -2.788504   \n",
       "malic_acid                      -81.177575              7.209805   \n",
       "ash                               5.581647              1.125449   \n",
       "alcalinity_of_ash              -207.458657             26.624669   \n",
       "magnesium                       494.376404            -80.634719   \n",
       "total_phenols                    95.663265             -6.202987   \n",
       "flavanoids                      176.596205            -11.835459   \n",
       "nonflavanoid_phenols            -11.835459              2.741488   \n",
       "proanthocyanins                  66.047117             -4.612597   \n",
       "color_intensity                 -70.652847              7.101330   \n",
       "hue                              21.962508             -1.322398   \n",
       "od280/od315_of_diluted_wines     98.812419             -7.871056   \n",
       "proline                       27514.206124          -2160.034775   \n",
       "\n",
       "                              proanthocyanins  color_intensity          hue  \\\n",
       "alcohol                             11.242601       182.006010    -2.356479   \n",
       "malic_acid                         -24.983016       114.136358   -25.368638   \n",
       "ash                                  0.268257        29.143816    -0.828741   \n",
       "alcalinity_of_ash                  -66.760191        25.669281   -37.013896   \n",
       "magnesium                          342.111348      1171.832149    32.010674   \n",
       "total_phenols                       38.829082       -14.159561    10.980881   \n",
       "flavanoids                          66.047117       -70.652847    21.962508   \n",
       "nonflavanoid_phenols                -4.612597         7.101330    -1.322398   \n",
       "proanthocyanins                     57.984256        -5.930193     6.843628   \n",
       "color_intensity                     -5.930193       951.277541   -48.941527   \n",
       "hue                                  6.843628       -48.941527     9.247358   \n",
       "od280/od315_of_diluted_wines        37.335130      -124.928826    16.242625   \n",
       "proline                          10541.117079     40845.843985  3009.039539   \n",
       "\n",
       "                              od280/od315_of_diluted_wines       proline  \n",
       "alcohol                                           7.380515  2.912839e+04  \n",
       "malic_acid                                      -51.763204 -1.195615e+04  \n",
       "ash                                               0.134845  3.419594e+03  \n",
       "alcalinity_of_ash                              -116.153483 -8.201390e+04  \n",
       "magnesium                                       118.467528  3.131411e+05  \n",
       "total_phenols                                    55.050766  1.737628e+04  \n",
       "flavanoids                                       98.812419  2.751421e+04  \n",
       "nonflavanoid_phenols                             -7.871056 -2.160035e+03  \n",
       "proanthocyanins                                  37.335130  1.054112e+04  \n",
       "color_intensity                                -124.928826  4.084584e+04  \n",
       "hue                                              16.242625  3.009040e+03  \n",
       "od280/od315_of_diluted_wines                     89.223294  1.237717e+04  \n",
       "proline                                       12377.172022  1.755251e+07  "
      ]
     },
     "execution_count": 81,
     "metadata": {},
     "output_type": "execute_result"
    }
   ],
   "source": [
    "X = wine_data.mean()\n",
    "S1 = ((wine_data - X).transpose() @ (wine_data - X))\n",
    "S1"
   ]
  },
  {
   "cell_type": "code",
   "execution_count": null,
   "metadata": {},
   "outputs": [],
   "source": []
  },
  {
   "cell_type": "markdown",
   "metadata": {},
   "source": [
    "If your code is correct, the following assert should be Ok."
   ]
  },
  {
   "cell_type": "code",
   "execution_count": 83,
   "metadata": {},
   "outputs": [],
   "source": [
    "assert np.allclose(np.linalg.norm(S), 5.787241159764733)"
   ]
  },
  {
   "cell_type": "code",
   "execution_count": 84,
   "metadata": {},
   "outputs": [],
   "source": [
    "from scipy.optimize import minimize\n",
    "\n",
    "def objective(x):\n",
    "    # your code: write objective of the problem (don't forget that scipy does min while we need max)\n",
    "    return -(x.transpose()@S@x)\n",
    "\n",
    "def norm_constraint(x):\n",
    "    # your code: constaraint norm of x to be 1, function should return 0 if constraint holds\n",
    "    return np.linalg.norm(x) - 1.0\n",
    "\n",
    "con1 = {'type': 'eq', 'fun': norm_constraint}\n",
    "\n",
    "x0 = np.zeros(S.shape[0])\n",
    "# your code: initial vector to start optimization\n",
    "\n",
    "sol = minimize(objective, \n",
    "               x0,\n",
    "               tol=0.1e-15,\n",
    "               constraints = [con1]\n",
    "              )\n",
    "x0 = sol.x\n"
   ]
  },
  {
   "cell_type": "code",
   "execution_count": 85,
   "metadata": {},
   "outputs": [
    {
     "name": "stdout",
     "output_type": "stream",
     "text": [
      "4.732436977583585\n"
     ]
    }
   ],
   "source": [
    "print(x0@S@x0)"
   ]
  },
  {
   "cell_type": "markdown",
   "metadata": {},
   "source": [
    "Hurray! We have first vector! Let's do another one."
   ]
  },
  {
   "cell_type": "code",
   "execution_count": 86,
   "metadata": {},
   "outputs": [],
   "source": [
    "def orthogonality_constraint(x):\n",
    "    # your code: x should be orthogonal to x0, function should return 0 if constraint holds\n",
    "    return x@x0\n",
    "\n",
    "con2 = {'type': 'eq', 'fun': orthogonality_constraint}\n",
    "\n",
    "x1 = np.zeros(S.shape[0])# your code: initial vector to start optimization\n",
    "\n",
    "sol = minimize(objective, \n",
    "               x1,\n",
    "               tol=0.1e-15,\n",
    "               constraints = [con1,con2]\n",
    "              )\n",
    "\n",
    "x1 = sol.x"
   ]
  },
  {
   "cell_type": "code",
   "execution_count": 87,
   "metadata": {},
   "outputs": [
    {
     "name": "stdout",
     "output_type": "stream",
     "text": [
      "2.5110809296451233\n"
     ]
    }
   ],
   "source": [
    "print(x1@S@x1)"
   ]
  },
  {
   "cell_type": "markdown",
   "metadata": {},
   "source": [
    "If your solution is correct, the following asserts should be Ok."
   ]
  },
  {
   "cell_type": "code",
   "execution_count": 88,
   "metadata": {},
   "outputs": [
    {
     "name": "stdout",
     "output_type": "stream",
     "text": [
      "success\n"
     ]
    }
   ],
   "source": [
    "assert np.allclose(x0@S@x0, 4.732436977583595)\n",
    "assert np.allclose(x1@S@x1, 2.5110809296451233)\n",
    "print('success')"
   ]
  },
  {
   "cell_type": "markdown",
   "metadata": {},
   "source": [
    "### Visualization (2 points)"
   ]
  },
  {
   "cell_type": "markdown",
   "metadata": {},
   "source": [
    "Visualize the points after applying custom dimension reduction with 2 components."
   ]
  },
  {
   "cell_type": "code",
   "execution_count": 91,
   "metadata": {},
   "outputs": [],
   "source": [
    "X = np.column_stack((x0, x1))\n",
    "wine_scaled = StandardScaler().fit_transform(wine_data)\n",
    "#получим новый датасет уменьшением размерности\n",
    "wine_reduce = np.array(wine_scaled@X)\n"
   ]
  },
  {
   "cell_type": "code",
   "execution_count": 92,
   "metadata": {},
   "outputs": [
    {
     "data": {
      "image/png": "[encoded data removed]",
      "text/plain": [
       "<Figure size 432x288 with 1 Axes>"
      ]
     },
     "metadata": {},
     "output_type": "display_data"
    }
   ],
   "source": [
    "plt.figsize=(10, 8)\n",
    "for l, c, m in zip(range(0, 3), ('blue', 'red', 'green'), ('^', 's', 'o')):\n",
    "    plt.scatter(wine_reduce[wine_labels == l, 0], wine_reduce[wine_labels == l, 1], \n",
    "                color=c, label=f'class {l}', alpha=0.5, marker=m)\n",
    "plt.xlabel('1st principal component',fontsize=12, color='blue')\n",
    "plt.ylabel('2st principal component',fontsize=12, color='blue')\n",
    "plt.legend()\n",
    "plt.show()"
   ]
  },
  {
   "cell_type": "markdown",
   "metadata": {},
   "source": [
    "## Exercise 5 - Boruta (3 points)\n",
    "\n",
    "Let us classify handwritten digits 0, 1 and 2. \n",
    "To make task not so easy the images are binarized (no shadows of gray present) as it happens with xerocopied documents.\n",
    "\n",
    "Let us also find out to which parts of an image there's no need to look in order to clasify three digits of interest."
   ]
  },
  {
   "cell_type": "code",
   "execution_count": 93,
   "metadata": {},
   "outputs": [
    {
     "name": "stdout",
     "output_type": "stream",
     "text": [
      "<class 'pandas.core.frame.DataFrame'>\n",
      "RangeIndex: 537 entries, 0 to 536\n",
      "Data columns (total 64 columns):\n",
      " #   Column     Non-Null Count  Dtype\n",
      "---  ------     --------------  -----\n",
      " 0   pixel_0_0  537 non-null    int32\n",
      " 1   pixel_0_1  537 non-null    int32\n",
      " 2   pixel_0_2  537 non-null    int32\n",
      " 3   pixel_0_3  537 non-null    int32\n",
      " 4   pixel_0_4  537 non-null    int32\n",
      " 5   pixel_0_5  537 non-null    int32\n",
      " 6   pixel_0_6  537 non-null    int32\n",
      " 7   pixel_0_7  537 non-null    int32\n",
      " 8   pixel_1_0  537 non-null    int32\n",
      " 9   pixel_1_1  537 non-null    int32\n",
      " 10  pixel_1_2  537 non-null    int32\n",
      " 11  pixel_1_3  537 non-null    int32\n",
      " 12  pixel_1_4  537 non-null    int32\n",
      " 13  pixel_1_5  537 non-null    int32\n",
      " 14  pixel_1_6  537 non-null    int32\n",
      " 15  pixel_1_7  537 non-null    int32\n",
      " 16  pixel_2_0  537 non-null    int32\n",
      " 17  pixel_2_1  537 non-null    int32\n",
      " 18  pixel_2_2  537 non-null    int32\n",
      " 19  pixel_2_3  537 non-null    int32\n",
      " 20  pixel_2_4  537 non-null    int32\n",
      " 21  pixel_2_5  537 non-null    int32\n",
      " 22  pixel_2_6  537 non-null    int32\n",
      " 23  pixel_2_7  537 non-null    int32\n",
      " 24  pixel_3_0  537 non-null    int32\n",
      " 25  pixel_3_1  537 non-null    int32\n",
      " 26  pixel_3_2  537 non-null    int32\n",
      " 27  pixel_3_3  537 non-null    int32\n",
      " 28  pixel_3_4  537 non-null    int32\n",
      " 29  pixel_3_5  537 non-null    int32\n",
      " 30  pixel_3_6  537 non-null    int32\n",
      " 31  pixel_3_7  537 non-null    int32\n",
      " 32  pixel_4_0  537 non-null    int32\n",
      " 33  pixel_4_1  537 non-null    int32\n",
      " 34  pixel_4_2  537 non-null    int32\n",
      " 35  pixel_4_3  537 non-null    int32\n",
      " 36  pixel_4_4  537 non-null    int32\n",
      " 37  pixel_4_5  537 non-null    int32\n",
      " 38  pixel_4_6  537 non-null    int32\n",
      " 39  pixel_4_7  537 non-null    int32\n",
      " 40  pixel_5_0  537 non-null    int32\n",
      " 41  pixel_5_1  537 non-null    int32\n",
      " 42  pixel_5_2  537 non-null    int32\n",
      " 43  pixel_5_3  537 non-null    int32\n",
      " 44  pixel_5_4  537 non-null    int32\n",
      " 45  pixel_5_5  537 non-null    int32\n",
      " 46  pixel_5_6  537 non-null    int32\n",
      " 47  pixel_5_7  537 non-null    int32\n",
      " 48  pixel_6_0  537 non-null    int32\n",
      " 49  pixel_6_1  537 non-null    int32\n",
      " 50  pixel_6_2  537 non-null    int32\n",
      " 51  pixel_6_3  537 non-null    int32\n",
      " 52  pixel_6_4  537 non-null    int32\n",
      " 53  pixel_6_5  537 non-null    int32\n",
      " 54  pixel_6_6  537 non-null    int32\n",
      " 55  pixel_6_7  537 non-null    int32\n",
      " 56  pixel_7_0  537 non-null    int32\n",
      " 57  pixel_7_1  537 non-null    int32\n",
      " 58  pixel_7_2  537 non-null    int32\n",
      " 59  pixel_7_3  537 non-null    int32\n",
      " 60  pixel_7_4  537 non-null    int32\n",
      " 61  pixel_7_5  537 non-null    int32\n",
      " 62  pixel_7_6  537 non-null    int32\n",
      " 63  pixel_7_7  537 non-null    int32\n",
      "dtypes: int32(64)\n",
      "memory usage: 134.4 KB\n"
     ]
    }
   ],
   "source": [
    "X, y = load_digits(n_class=3, return_X_y=True, as_frame=True)\n",
    "X = (X>10).astype(int)\n",
    "X.info()"
   ]
  },
  {
   "cell_type": "code",
   "execution_count": 94,
   "metadata": {},
   "outputs": [
    {
     "data": {
      "image/png": "[encoded data removed]",
      "text/plain": [
       "<Figure size 720x288 with 3 Axes>"
      ]
     },
     "metadata": {},
     "output_type": "display_data"
    }
   ],
   "source": [
    "f, ax = plt.subplots(1,3,figsize=(10,4))\n",
    "for i in range(3):\n",
    "    ax[i].imshow(X.iloc[i].values.reshape(8,8))\n",
    "    ax[i].set_title(f\"This is digit {y[i]}.\")\n",
    "plt.suptitle(\"First three images.\")\n",
    "plt.show()"
   ]
  },
  {
   "cell_type": "markdown",
   "metadata": {},
   "source": [
    "Split data into train and test, let test size be 30% of the dataset and fix random state to 42:"
   ]
  },
  {
   "cell_type": "code",
   "execution_count": 95,
   "metadata": {},
   "outputs": [],
   "source": [
    "X_train, X_val, y_train, y_val = train_test_split(X, y, test_size=0.3, random_state=42)## your code here\n"
   ]
  },
  {
   "cell_type": "code",
   "execution_count": 96,
   "metadata": {},
   "outputs": [],
   "source": [
    "assert y_val.shape[0] == 162\n",
    "assert y_val.sum() == 169"
   ]
  },
  {
   "cell_type": "markdown",
   "metadata": {},
   "source": [
    "Fit a RandomForestClassifier with max_depth=13 and evaluate it's performance:"
   ]
  },
  {
   "cell_type": "code",
   "execution_count": 97,
   "metadata": {},
   "outputs": [
    {
     "name": "stdout",
     "output_type": "stream",
     "text": [
      "0.9876543209876543\n"
     ]
    }
   ],
   "source": [
    "clf = RandomForestClassifier(max_depth=13)\n",
    "clf.fit(X_train, y_train)\n",
    "\n",
    "acc = clf.score(X_val, y_val)# your code here\n",
    "print(acc)"
   ]
  },
  {
   "cell_type": "code",
   "execution_count": 98,
   "metadata": {},
   "outputs": [],
   "source": [
    "assert acc > 0.98"
   ]
  },
  {
   "cell_type": "markdown",
   "metadata": {},
   "source": [
    "Now we will use Boruta to find redundand pixels. If the package is not installed in your system, uncomment and run the following cell."
   ]
  },
  {
   "cell_type": "code",
   "execution_count": 99,
   "metadata": {},
   "outputs": [],
   "source": [
    "#! pip install boruta"
   ]
  },
  {
   "cell_type": "code",
   "execution_count": 100,
   "metadata": {},
   "outputs": [
    {
     "data": {
      "text/plain": [
       "BorutaPy(estimator=RandomForestClassifier(max_depth=13, n_estimators=62,\n",
       "                                          random_state=RandomState(MT19937) at 0x24F718AD240),\n",
       "         n_estimators='auto',\n",
       "         random_state=RandomState(MT19937) at 0x24F718AD240)"
      ]
     },
     "execution_count": 100,
     "metadata": {},
     "output_type": "execute_result"
    }
   ],
   "source": [
    "from boruta import BorutaPy\n",
    "\n",
    "feat_selector = BorutaPy(RandomForestClassifier(max_depth=13), \n",
    "                         n_estimators='auto', \n",
    "                         verbose=0, \n",
    "                         max_iter=100,\n",
    "                         random_state=42)\n",
    "\n",
    "feat_selector.fit(np.array(X_train), np.array(y_train)) #your code here: do run the boruta"
   ]
  },
  {
   "cell_type": "markdown",
   "metadata": {},
   "source": [
    "Let us print redundant pixels as a mask. Does the result looks similar to mine (or to Among us chracters)? "
   ]
  },
  {
   "cell_type": "code",
   "execution_count": 101,
   "metadata": {},
   "outputs": [
    {
     "data": {
      "image/png": "[encoded data removed]",
      "text/plain": [
       "<Figure size 432x288 with 1 Axes>"
      ]
     },
     "metadata": {},
     "output_type": "display_data"
    }
   ],
   "source": [
    "mask = np.array(feat_selector.support_).reshape(8,8)\n",
    "plt.imshow(mask);"
   ]
  },
  {
   "cell_type": "markdown",
   "metadata": {},
   "source": [
    "At the end let us redo  classification but only with selected features"
   ]
  },
  {
   "cell_type": "code",
   "execution_count": 103,
   "metadata": {},
   "outputs": [
    {
     "name": "stdout",
     "output_type": "stream",
     "text": [
      "0.9938271604938271\n"
     ]
    }
   ],
   "source": [
    "clf = RandomForestClassifier(max_depth=13, random_state = 42)\n",
    "features = X_train.columns[feat_selector.support_].to_list()\n",
    "\n",
    "# your code here\n",
    "clf.fit(X_train[features], y_train)\n",
    "\n",
    "acc = clf.score(X_val[features], y_val)\n",
    "print(acc)\n",
    "#X_val[features].info()"
   ]
  },
  {
   "cell_type": "code",
   "execution_count": 104,
   "metadata": {},
   "outputs": [
    {
     "name": "stdout",
     "output_type": "stream",
     "text": [
      "success\n"
     ]
    }
   ],
   "source": [
    "assert acc > 0.99\n",
    "print('success')"
   ]
  },
  {
   "cell_type": "markdown",
   "metadata": {},
   "source": [
    "# Materials & References"
   ]
  },
  {
   "cell_type": "markdown",
   "metadata": {},
   "source": [
    "1. General article about feature engineering and selection (main reference):\n",
    "https://github.com/Yorko/mlcourse.ai/blob/master/jupyter_english/topic06_features_regression/topic6_feature_engineering_feature_selection.ipynb\n",
    "\n",
    "2. Feature engineering/preprocessing, using scikit-learn API (great code examples, but really brief explanation):    \n",
    "https://scikit-learn.org/stable/modules/preprocessing\n",
    "\n",
    "3. Feature scaling/normalization:     \n",
    "https://towardsdatascience.com/all-about-feature-scaling-bcc0ad75cb35\n",
    "\n",
    "4. Log Transform/power transform:    \n",
    "https://medium.com/@kyawsawhtoon/log-transformation-purpose-and-interpretation-9444b4b049c9\n",
    "\n",
    "6. Missing values preprocessing using scikit-learn API (great code examples, great explanation):    \n",
    "https://scikit-learn.org/stable/modules/impute.html\n",
    "\n",
    "7. Feature selection scikit-learn API (great code examples, great explanation):   \n",
    "https://scikit-learn.org/stable/modules/feature_selection.html\n",
    "\n",
    "8. Melbourne housing dataset source:    \n",
    "https://www.kaggle.com/anthonypino/melbourne-housing-market"
   ]
  }
 ],
 "metadata": {
  "kernelspec": {
   "display_name": "Python 3",
   "language": "python",
   "name": "python3"
  },
  "language_info": {
   "codemirror_mode": {
    "name": "ipython",
    "version": 3
   },
   "file_extension": ".py",
   "mimetype": "text/x-python",
   "name": "python",
   "nbconvert_exporter": "python",
   "pygments_lexer": "ipython3",
   "version": "3.8.8"
  },
  "toc": {
   "base_numbering": "1",
   "nav_menu": {},
   "number_sections": true,
   "sideBar": true,
   "skip_h1_title": false,
   "title_cell": "Table of Contents",
   "title_sidebar": "Contents",
   "toc_cell": false,
   "toc_position": {
    "height": "calc(100% - 180px)",
    "left": "10px",
    "top": "150px",
    "width": "165px"
   },
   "toc_section_display": true,
   "toc_window_display": true
  }
 },
 "nbformat": 4,
 "nbformat_minor": 4
}
